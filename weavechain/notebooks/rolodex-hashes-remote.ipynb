{
 "cells": [
  {
   "cell_type": "markdown",
   "id": "3e4eb758",
   "metadata": {},
   "source": [
    "## Weavechain integrity proofs on ICP"
   ]
  },
  {
   "cell_type": "markdown",
   "id": "2460ecfc",
   "metadata": {},
   "source": [
    "In this demo notebook we will showcase storing integrity proofs on ICP:\n",
    "\n",
    "- we will create a table in a data collection\n",
    "- mark some fields as personal information that is not to be shared\n",
    "- write few records\n",
    "- read data locally (and be able to see all fields)\n",
    "- read hashes stored on ICP\n",
    "- verify integrity proofs stored on ICP\n",
    "   \n",
    "A Weavechain node is installed and preconfigured to support this scenario"
   ]
  },
  {
   "cell_type": "markdown",
   "id": "8e0dbccf",
   "metadata": {},
   "source": [
    "### 1. Create an API session"
   ]
  },
  {
   "cell_type": "code",
   "execution_count": 24,
   "id": "d96cfcaf",
   "metadata": {},
   "outputs": [
    {
     "name": "stdout",
     "output_type": "stream",
     "text": [
      "{\"res\":\"ok\",\"data\":\"pong 1697703766258\"}\n"
     ]
    }
   ],
   "source": [
    "import pandas as pd\n",
    "\n",
    "from weaveapi.records import *\n",
    "from weaveapi.options import *\n",
    "from weaveapi.filter import *\n",
    "from weaveapi.weaveh import *\n",
    "\n",
    "WEAVE_CONFIG = \"config/demo_client_remote_rolodex.config\"\n",
    "nodeApi, session = connect_weave_api(WEAVE_CONFIG)\n",
    "\n",
    "scope = \"rolodex\"\n",
    "table = \"directory\""
   ]
  },
  {
   "cell_type": "markdown",
   "id": "ac907012",
   "metadata": {},
   "source": [
    "### 2. Create a local table"
   ]
  },
  {
   "cell_type": "markdown",
   "id": "7b4a5e29",
   "metadata": {},
   "source": [
    "- we drop the existing table if already existing and re-create it from scratch\n",
    "- a weavechain node can also connect to existing tables, reading their structure, but in this case we create it via the API"
   ]
  },
  {
   "cell_type": "code",
   "execution_count": 25,
   "id": "17b212cf",
   "metadata": {},
   "outputs": [
    {
     "name": "stdout",
     "output_type": "stream",
     "text": [
      "{'res': 'ok', 'target': {'operationType': 'CREATE_TABLE', 'organization': 'icprolodex', 'account': 'icprolodex', 'scope': 'rolodex', 'table': 'directory'}}\n"
     ]
    }
   ],
   "source": [
    "layout = { \n",
    "    \"columns\": { \n",
    "        \"id\": { \"type\": \"LONG\", \"isIndexed\": True, \"isUnique\": True, \"isNullable\": False },\n",
    "        \"ts\": { \"type\": \"LONG\" },\n",
    "        \"writer\": { \"type\": \"STRING\" },\n",
    "        \"sig\": { \"type\": \"STRING\" },\n",
    "        \"name_nickname\": { \"type\": \"STRING\" },\n",
    "        \"name_last\": { \"type\": \"STRING\" },\n",
    "        \"name_first\": { \"type\": \"STRING\" },\n",
    "        \"birthday\": { \"type\": \"STRING\" },\n",
    "        \"email_personal\": { \"type\": \"STRING\" },\n",
    "        \"phone_number\": { \"type\": \"STRING\" },\n",
    "        \"address_country\": { \"type\": \"STRING\" },\n",
    "        \"address_summary\": { \"type\": \"STRING\" },\n",
    "        \"address_timezone\": { \"type\": \"STRING\" },\n",
    "        \"linkedin_url\": { \"type\": \"STRING\" },\n",
    "        \"discord_username\": { \"type\": \"STRING\" },\n",
    "        \"telegram_username\": { \"type\": \"STRING\" },\n",
    "        \"ethereum_wallet_address\": { \"type\": \"STRING\" }\n",
    "    }, \n",
    "    \"idColumnIndex\": 0, \n",
    "    \"timestampColumnIndex\": 1, \n",
    "    \"ownerColumnIndex\": 2, # Fills the pubkey column automatically with the public key of the writer\n",
    "    \"signatureColumnIndex\": 3,\n",
    "    \"isLocal\": False,\n",
    "    \"applyReadTransformations\": True\n",
    "}\n",
    "\n",
    "nodeApi.dropTable(session, scope, table).get()\n",
    "reply = nodeApi.createTable(session, scope, table, CreateOptions(False, False, layout)).get()\n",
    "print(reply)"
   ]
  },
  {
   "cell_type": "markdown",
   "id": "03d82eca",
   "metadata": {},
   "source": [
    "### 3. Mark some fields for erasure"
   ]
  },
  {
   "cell_type": "markdown",
   "id": "817c68c3",
   "metadata": {},
   "source": [
    "- the purpose is to protect certain fields when shared"
   ]
  },
  {
   "cell_type": "code",
   "execution_count": 26,
   "id": "18be11b4",
   "metadata": {},
   "outputs": [
    {
     "name": "stdout",
     "output_type": "stream",
     "text": [
      "{'res': 'ok', 'target': {'operationType': 'UPDATE_LAYOUT', 'organization': 'icprolodex', 'account': 'icprolodex', 'scope': 'rolodex', 'table': 'directory'}}\n"
     ]
    }
   ],
   "source": [
    "reply = nodeApi.getTableDefinition(session, scope, table).get()\n",
    "#print(reply)\n",
    "layout = json.loads(reply[\"data\"])[\"layout\"]\n",
    "\n",
    "newLayout = layout.copy()\n",
    "del newLayout[\"layout\"]\n",
    "del newLayout[\"indexes\"]\n",
    "del newLayout[\"columnNames\"]\n",
    "newLayout[\"columns\"] = { i[\"columnName\"]: i for i in layout[\"columns\"]}\n",
    "\n",
    "newLayout[\"columns\"][\"phone_number\"][\"readTransform\"] = \"ERASURE\"\n",
    "newLayout[\"columns\"][\"address_summary\"][\"readTransform\"] = \"ERASURE\"\n",
    "newLayout[\"columns\"][\"ethereum_wallet_address\"][\"readTransform\"] = \"ERASURE\"\n",
    "newLayout[\"columns\"][\"birthday\"][\"readTransform\"] = \"ERASURE\"\n",
    "\n",
    "reply = nodeApi.updateLayout(session, scope, table, newLayout).get()\n",
    "print(reply)"
   ]
  },
  {
   "cell_type": "markdown",
   "id": "256f11bb",
   "metadata": {},
   "source": [
    "### 4. Write few records in the local storage"
   ]
  },
  {
   "cell_type": "code",
   "execution_count": 27,
   "id": "ddea986d",
   "metadata": {},
   "outputs": [
    {
     "name": "stdout",
     "output_type": "stream",
     "text": [
      "{'res': 'ok', 'target': {'operationType': 'WRITE', 'organization': 'icprolodex', 'account': 'icprolodex', 'scope': 'rolodex', 'table': 'directory'}, 'data': 'weaved8xLnTMp5B5GtJwDQvc1u7K4fwPc2ry7iDieyCdJRHcG,5U6dfEWTjJcyA1yxtbDsZ4yu5NPpfd/pl0dNoCi+I6A=,YmcLrYANb6g61X689EUSun4QTNgZ9fFcYJYCnjJmPPpAHWHZU2x48u3yV7vysMhfVNsaWzNjchFMHo5bJeCK5aX', 'ids': '1 2 3 4'}\n"
     ]
    }
   ],
   "source": [
    "records = Records(table, [ \n",
    "    [ None, None, None, None, 'Nickname', 'Last Name', 'First name', '1980-01-01', 'email@gmail.com', '+40712345678', 'US', 'Secret', 'EST', 'https://www.linkedin.com/in/linkedin/', 'discord#1234', '@telegram', '0xwallet' ],\n",
    "    [ None, None, None, None, 'jdoe', 'John', 'Doe', '1990-05-01', 'johndoe@gmail.com', '+44712345678', 'US', 'Secret', 'EST', 'https://www.linkedin.com/in/linkedin/', 'discord#jdoe', '@jdoe', '0xwallet' ],\n",
    "    [ None, None, None, None, 'jndoe', 'Jane', 'Doe', '2001-03-01', 'janedoe@gmail.com', '+112345678', 'US', 'Secret', 'EST', 'https://www.linkedin.com/in/linkedin/', 'discord#1234', '@telegram', '0xwallet' ],\n",
    "    [ None, None, None, None, 'foobar', 'Foo', 'Bar', '1989-12-01', 'fbar@gmail.com', '+122345678', 'US', 'Secret', 'EST', 'https://www.linkedin.com/in/linkedin/', 'discord#1234', '@telegram', '0xwallet' ]\n",
    "])\n",
    "reply = nodeApi.write(session, scope, records, WRITE_DEFAULT).get()\n",
    "print(reply)"
   ]
  },
  {
   "cell_type": "markdown",
   "id": "b1c4be2c",
   "metadata": {},
   "source": [
    "### 5. Read the local record, from the local storage"
   ]
  },
  {
   "cell_type": "markdown",
   "id": "996711b0",
   "metadata": {},
   "source": [
    "- since we read with the owner key and from the local node, we expect the records to have all fields visible"
   ]
  },
  {
   "cell_type": "code",
   "execution_count": 28,
   "id": "cb2dd661",
   "metadata": {
    "scrolled": false
   },
   "outputs": [
    {
     "data": {
      "text/html": [
       "<div>\n",
       "<style scoped>\n",
       "    .dataframe tbody tr th:only-of-type {\n",
       "        vertical-align: middle;\n",
       "    }\n",
       "\n",
       "    .dataframe tbody tr th {\n",
       "        vertical-align: top;\n",
       "    }\n",
       "\n",
       "    .dataframe thead th {\n",
       "        text-align: right;\n",
       "    }\n",
       "</style>\n",
       "<table border=\"1\" class=\"dataframe\">\n",
       "  <thead>\n",
       "    <tr style=\"text-align: right;\">\n",
       "      <th></th>\n",
       "      <th>id</th>\n",
       "      <th>ts</th>\n",
       "      <th>writer</th>\n",
       "      <th>sig</th>\n",
       "      <th>name_nickname</th>\n",
       "      <th>name_last</th>\n",
       "      <th>name_first</th>\n",
       "      <th>birthday</th>\n",
       "      <th>email_personal</th>\n",
       "      <th>phone_number</th>\n",
       "      <th>address_country</th>\n",
       "      <th>address_summary</th>\n",
       "      <th>address_timezone</th>\n",
       "      <th>linkedin_url</th>\n",
       "      <th>discord_username</th>\n",
       "      <th>telegram_username</th>\n",
       "      <th>ethereum_wallet_address</th>\n",
       "    </tr>\n",
       "  </thead>\n",
       "  <tbody>\n",
       "    <tr>\n",
       "      <th>0</th>\n",
       "      <td>1</td>\n",
       "      <td>1697703781148</td>\n",
       "      <td>weaved8xLnTMp5B5GtJwDQvc1u7K4fwPc2ry7iDieyCdJRHcG</td>\n",
       "      <td>[{\"sig\":{\"recordsHash\":\"5U6dfEWTjJcyA1yxtbDsZ4...</td>\n",
       "      <td>Nickname</td>\n",
       "      <td>Last Name</td>\n",
       "      <td>First name</td>\n",
       "      <td>1980-01-01</td>\n",
       "      <td>email@gmail.com</td>\n",
       "      <td>+40712345678</td>\n",
       "      <td>US</td>\n",
       "      <td>Secret</td>\n",
       "      <td>EST</td>\n",
       "      <td>https://www.linkedin.com/in/linkedin/</td>\n",
       "      <td>discord#1234</td>\n",
       "      <td>@telegram</td>\n",
       "      <td>0xwallet</td>\n",
       "    </tr>\n",
       "    <tr>\n",
       "      <th>1</th>\n",
       "      <td>2</td>\n",
       "      <td>1697703781148</td>\n",
       "      <td>weaved8xLnTMp5B5GtJwDQvc1u7K4fwPc2ry7iDieyCdJRHcG</td>\n",
       "      <td>[{\"sig\":{\"recordsHash\":\"5U6dfEWTjJcyA1yxtbDsZ4...</td>\n",
       "      <td>jdoe</td>\n",
       "      <td>John</td>\n",
       "      <td>Doe</td>\n",
       "      <td>1990-05-01</td>\n",
       "      <td>johndoe@gmail.com</td>\n",
       "      <td>+44712345678</td>\n",
       "      <td>US</td>\n",
       "      <td>Secret</td>\n",
       "      <td>EST</td>\n",
       "      <td>https://www.linkedin.com/in/linkedin/</td>\n",
       "      <td>discord#jdoe</td>\n",
       "      <td>@jdoe</td>\n",
       "      <td>0xwallet</td>\n",
       "    </tr>\n",
       "    <tr>\n",
       "      <th>2</th>\n",
       "      <td>3</td>\n",
       "      <td>1697703781148</td>\n",
       "      <td>weaved8xLnTMp5B5GtJwDQvc1u7K4fwPc2ry7iDieyCdJRHcG</td>\n",
       "      <td>[{\"sig\":{\"recordsHash\":\"5U6dfEWTjJcyA1yxtbDsZ4...</td>\n",
       "      <td>jndoe</td>\n",
       "      <td>Jane</td>\n",
       "      <td>Doe</td>\n",
       "      <td>2001-03-01</td>\n",
       "      <td>janedoe@gmail.com</td>\n",
       "      <td>+112345678</td>\n",
       "      <td>US</td>\n",
       "      <td>Secret</td>\n",
       "      <td>EST</td>\n",
       "      <td>https://www.linkedin.com/in/linkedin/</td>\n",
       "      <td>discord#1234</td>\n",
       "      <td>@telegram</td>\n",
       "      <td>0xwallet</td>\n",
       "    </tr>\n",
       "    <tr>\n",
       "      <th>3</th>\n",
       "      <td>4</td>\n",
       "      <td>1697703781148</td>\n",
       "      <td>weaved8xLnTMp5B5GtJwDQvc1u7K4fwPc2ry7iDieyCdJRHcG</td>\n",
       "      <td>[{\"sig\":{\"recordsHash\":\"5U6dfEWTjJcyA1yxtbDsZ4...</td>\n",
       "      <td>foobar</td>\n",
       "      <td>Foo</td>\n",
       "      <td>Bar</td>\n",
       "      <td>1989-12-01</td>\n",
       "      <td>fbar@gmail.com</td>\n",
       "      <td>+122345678</td>\n",
       "      <td>US</td>\n",
       "      <td>Secret</td>\n",
       "      <td>EST</td>\n",
       "      <td>https://www.linkedin.com/in/linkedin/</td>\n",
       "      <td>discord#1234</td>\n",
       "      <td>@telegram</td>\n",
       "      <td>0xwallet</td>\n",
       "    </tr>\n",
       "  </tbody>\n",
       "</table>\n",
       "</div>"
      ],
      "text/plain": [
       "   id             ts                                             writer  \\\n",
       "0   1  1697703781148  weaved8xLnTMp5B5GtJwDQvc1u7K4fwPc2ry7iDieyCdJRHcG   \n",
       "1   2  1697703781148  weaved8xLnTMp5B5GtJwDQvc1u7K4fwPc2ry7iDieyCdJRHcG   \n",
       "2   3  1697703781148  weaved8xLnTMp5B5GtJwDQvc1u7K4fwPc2ry7iDieyCdJRHcG   \n",
       "3   4  1697703781148  weaved8xLnTMp5B5GtJwDQvc1u7K4fwPc2ry7iDieyCdJRHcG   \n",
       "\n",
       "                                                 sig name_nickname  name_last  \\\n",
       "0  [{\"sig\":{\"recordsHash\":\"5U6dfEWTjJcyA1yxtbDsZ4...      Nickname  Last Name   \n",
       "1  [{\"sig\":{\"recordsHash\":\"5U6dfEWTjJcyA1yxtbDsZ4...          jdoe       John   \n",
       "2  [{\"sig\":{\"recordsHash\":\"5U6dfEWTjJcyA1yxtbDsZ4...         jndoe       Jane   \n",
       "3  [{\"sig\":{\"recordsHash\":\"5U6dfEWTjJcyA1yxtbDsZ4...        foobar        Foo   \n",
       "\n",
       "   name_first    birthday     email_personal  phone_number address_country  \\\n",
       "0  First name  1980-01-01    email@gmail.com  +40712345678              US   \n",
       "1         Doe  1990-05-01  johndoe@gmail.com  +44712345678              US   \n",
       "2         Doe  2001-03-01  janedoe@gmail.com    +112345678              US   \n",
       "3         Bar  1989-12-01     fbar@gmail.com    +122345678              US   \n",
       "\n",
       "  address_summary address_timezone                           linkedin_url  \\\n",
       "0          Secret              EST  https://www.linkedin.com/in/linkedin/   \n",
       "1          Secret              EST  https://www.linkedin.com/in/linkedin/   \n",
       "2          Secret              EST  https://www.linkedin.com/in/linkedin/   \n",
       "3          Secret              EST  https://www.linkedin.com/in/linkedin/   \n",
       "\n",
       "  discord_username telegram_username ethereum_wallet_address  \n",
       "0     discord#1234         @telegram                0xwallet  \n",
       "1     discord#jdoe             @jdoe                0xwallet  \n",
       "2     discord#1234         @telegram                0xwallet  \n",
       "3     discord#1234         @telegram                0xwallet  "
      ]
     },
     "execution_count": 28,
     "metadata": {},
     "output_type": "execute_result"
    }
   ],
   "source": [
    "scope = \"rolodex\"\n",
    "table = \"directory\"\n",
    "\n",
    "reply = nodeApi.read(session, scope, table, None, READ_DEFAULT_NO_CHAIN).get()\n",
    "#print(reply)\n",
    "df = pd.DataFrame(reply[\"data\"])\n",
    "\n",
    "df.head()"
   ]
  },
  {
   "cell_type": "markdown",
   "id": "8b652336",
   "metadata": {},
   "source": [
    "#### Check row integrity proof from writer"
   ]
  },
  {
   "cell_type": "code",
   "execution_count": 35,
   "id": "ccae20bd",
   "metadata": {},
   "outputs": [
    {
     "data": {
      "text/plain": [
       "[{'sig': {'recordsHash': '5U6dfEWTjJcyA1yxtbDsZ4yu5NPpfd/pl0dNoCi+I6A=',\n",
       "   'count': '1',\n",
       "   'pubKey': 'weaved8xLnTMp5B5GtJwDQvc1u7K4fwPc2ry7iDieyCdJRHcG',\n",
       "   'sig': '4rs3uHoksFWVaYCDKA78smAHiK4SrLiDxvbEV5qB3NDdTffXuNv2griLLC96PYNzYbfYTTDKvvdh5L88x51EWSSA'}}]"
      ]
     },
     "metadata": {},
     "output_type": "display_data"
    }
   ],
   "source": [
    "display(json.loads(df.iloc[-1][\"sig\"]))"
   ]
  },
  {
   "cell_type": "markdown",
   "id": "49d86941",
   "metadata": {},
   "source": [
    "### 6. Read hashes"
   ]
  },
  {
   "cell_type": "code",
   "execution_count": 36,
   "id": "6f52c82f",
   "metadata": {},
   "outputs": [
    {
     "data": {
      "text/html": [
       "<div>\n",
       "<style scoped>\n",
       "    .dataframe tbody tr th:only-of-type {\n",
       "        vertical-align: middle;\n",
       "    }\n",
       "\n",
       "    .dataframe tbody tr th {\n",
       "        vertical-align: top;\n",
       "    }\n",
       "\n",
       "    .dataframe thead th {\n",
       "        text-align: right;\n",
       "    }\n",
       "</style>\n",
       "<table border=\"1\" class=\"dataframe\">\n",
       "  <thead>\n",
       "    <tr style=\"text-align: right;\">\n",
       "      <th></th>\n",
       "      <th>ID</th>\n",
       "      <th>Hash</th>\n",
       "    </tr>\n",
       "  </thead>\n",
       "  <tbody>\n",
       "    <tr>\n",
       "      <th>0</th>\n",
       "      <td>1</td>\n",
       "      <td>NNBDoDj64aDv21DJQ+K6xFG8xQ1Ry6TN9zhAR8MI6p8=</td>\n",
       "    </tr>\n",
       "  </tbody>\n",
       "</table>\n",
       "</div>"
      ],
      "text/plain": [
       "  ID                                          Hash\n",
       "0  1  NNBDoDj64aDv21DJQ+K6xFG8xQ1Ry6TN9zhAR8MI6p8="
      ]
     },
     "metadata": {},
     "output_type": "display_data"
    }
   ],
   "source": [
    "reply = nodeApi.hashes(session, scope, table, None, READ_DEFAULT_NO_CHAIN).get()\n",
    "dh = pd.DataFrame([ [x, reply[\"data\"][x]] for x in list(reply[\"data\"]) ], columns=[\"ID\", \"Hash\"])\n",
    "\n",
    "display(dh)"
   ]
  },
  {
   "cell_type": "markdown",
   "id": "ab1b1c72",
   "metadata": {},
   "source": [
    "### 7. Read merkle root for the table"
   ]
  },
  {
   "cell_type": "code",
   "execution_count": 37,
   "id": "cc417b5d",
   "metadata": {},
   "outputs": [
    {
     "name": "stdout",
     "output_type": "stream",
     "text": [
      "Generated at 1697703841031\n",
      "Root Hash EnwbMZFiuCEo2MJ9YEp3PDTqopWZqQ9VLi5x2zASZpX5\n",
      "Signature YBSscPH9YnKYx5re1399dKo6cPxHGoKfmq3Mnn6JAG5XLwx3uAwTumSzKE2BneyZyBeML2vjmZSpcU7VcQ14yVt\n",
      "\n",
      "1 ['EnwbMZFiuCEo2MJ9YEp3PDTqopWZqQ9VLi5x2zASZpX5']\n",
      "2 ['4ZzDmf2gyKgxh9i8kbULc95p8HQSWsxXJh1waq9o4bhy', '5JGTsLpou5VTcepwwmvEAR2i6CULnMUPEgwGa3e1hrCg']\n",
      "3 ['26cNzUrVMN9phjfJK8wE9imbuwGKfpkbYLHUUDAxKHLb', '4eWYP6nWEH6WVS6Yw7JD3ENgCmiLCfz5YUEPKCTV1PMH', '9Xea1VRN5Jm1s3yLmFczCFAgVSF7v4fCwF3MGKTYkFz', '3QFodfQQiD5e4vDZ72eh2jFVqtsXPsQXYjxswsaKXECZ']\n",
      "\n",
      "              _____________Enw..pX5____________\n",
      "             /                                 \\\n",
      "     ____4Zz..bhy___                     ____5JG..rCg___\n",
      "    /               \\                   /               \\\n",
      "26c..HLb          4eW..PMH          9Xe..kFz          3QF..ECZ\n",
      "\n"
     ]
    }
   ],
   "source": [
    "from binarytree import Node\n",
    "\n",
    "def showtree(tree):\n",
    "    prev = None\n",
    "    root = None\n",
    "    lvl = 1\n",
    "    for l in tree.split(\";\"):\n",
    "        level = l.split(\",\")\n",
    "        print(lvl, level)\n",
    "        lvl += 1\n",
    "        nodes = []\n",
    "        for i in range(len(level)):\n",
    "            pidx = int(i / 2)\n",
    "            node = Node(level[i][:3] + \"..\" + level[i][-3:])\n",
    "            if root is None:\n",
    "                root = node\n",
    "            nodes.append(node)\n",
    "            if prev is not None:\n",
    "                parent = prev[pidx]\n",
    "                if parent.left is None:\n",
    "                    parent.left = node\n",
    "                else:\n",
    "                    parent.right = node\n",
    "        prev = nodes\n",
    "    \n",
    "    print(root)\n",
    "\n",
    "salt = \"salt1234\" # Same salt used for records hashes, this can be improved to have different salts for *each distinct writer*\n",
    "digest = \"SHA-256\"\n",
    "\n",
    "filter = Filter(None, None, None, None, [ \"name_nickname\",\"name_last\",\"name_first\",\"birthday\",\"email_personal\",\"phone_number\",\"address_country\",\"address_summary\",\"address_timezone\",\"linkedin_url\",\"discord_username\",\"telegram_username\",\"ethereum_wallet_address\" ])\n",
    "reply = nodeApi.merkleTree(session, scope, table, filter, salt, digest, READ_DEFAULT_NO_CHAIN).get()\n",
    "tree = reply[\"data\"][\"tree\"]\n",
    "rootHash = reply[\"data\"][\"rootHash\"]\n",
    "ts = reply[\"data\"][\"timestamp\"]\n",
    "rootHashSignature = reply[\"data\"][\"signature\"]\n",
    "\n",
    "print(\"Generated at\", ts)\n",
    "print(\"Root Hash\", rootHash)\n",
    "print(\"Signature\", rootHashSignature)\n",
    "print(\"\")\n",
    "showtree(tree)\n",
    "# We've built a Merkle Tree at a specific time, signed by the node that created it.\n",
    "# The Merkle Leaves are salted hashes of the data in the table"
   ]
  },
  {
   "cell_type": "markdown",
   "id": "4244ee13",
   "metadata": {},
   "source": [
    "### Check merkle root stored on ICP"
   ]
  },
  {
   "cell_type": "code",
   "execution_count": 38,
   "id": "d8c77a9a",
   "metadata": {},
   "outputs": [
    {
     "data": {
      "text/plain": [
       "{'signature': '3P2Z3rjBWveUM8eKLKDbD6fLzTQGoQr2g8xzn6U8kjzgEY49NXyD2WCXaJ6DvM85DH9A3YTcbrCbLYFhFEKEEN8k',\n",
       " 'rootHash': 'EnwbMZFiuCEo2MJ9YEp3PDTqopWZqQ9VLi5x2zASZpX5',\n",
       " 'timestamp': '1697703843484'}"
      ]
     },
     "metadata": {},
     "output_type": "display_data"
    }
   ],
   "source": [
    "reply = nodeApi.rootHash(session, scope, table).get()\n",
    "data = reply[\"data\"]\n",
    "display(data)"
   ]
  },
  {
   "cell_type": "markdown",
   "id": "f03725e7",
   "metadata": {},
   "source": [
    "### Verify the root hash against ICP"
   ]
  },
  {
   "cell_type": "code",
   "execution_count": 39,
   "id": "1e624560",
   "metadata": {
    "scrolled": true
   },
   "outputs": [
    {
     "data": {
      "text/plain": [
       "{'signature': '5DJDhMz4GBbqMptFtvMDg3hwYcvEkz2hX1WQz52wVdZuYQ2i8fs3X1U9pxr9XSDn3CnuNNoMvEgZTwWzj7q3JEbw',\n",
       " 'rootHash': 'EnwbMZFiuCEo2MJ9YEp3PDTqopWZqQ9VLi5x2zASZpX5',\n",
       " 'timestamp': '1697703845248'}"
      ]
     },
     "metadata": {},
     "output_type": "display_data"
    },
    {
     "name": "stdout",
     "output_type": "stream",
     "text": [
      "\n",
      "Matching: True\n",
      "Node Public Key: GfHq2tTVk9z4eXgyHRyb7SpxujN2B86QuKWSEvr91g94fVATX72hejve9YcT\n",
      "Check signature from merkleTree() call: True\n",
      "Check signature from blockchain: True\n"
     ]
    }
   ],
   "source": [
    "reply = nodeApi.rootHash(session, scope, table).get()\n",
    "data = reply[\"data\"]\n",
    "display(data)\n",
    "\n",
    "chainRootHash = data[\"rootHash\"]\n",
    "print(\"\\nMatching:\", rootHash == chainRootHash) # data hashes are salted. The salt needs to match what's configured on the network to have a match\n",
    "\n",
    "signingKey = nodeApi.sigKey().get()[\"data\"]\n",
    "print(\"Node Public Key:\", signingKey)\n",
    "\n",
    "toSign = rootHash + \" \" + ts\n",
    "#print(rootHash)\n",
    "check = nodeApi.verifySignature(rootHashSignature, toSign)\n",
    "print(\"Check signature from merkleTree() call:\", check)\n",
    "\n",
    "toSign = data[\"rootHash\"] + \" \" + data[\"timestamp\"]\n",
    "check = nodeApi.verifySignature(data[\"signature\"], toSign)\n",
    "print(\"Check signature from blockchain:\", check)\n",
    "\n",
    "# Note, verifySignature isn't unique to Weavechain, it's EdDSA public key cryptography and the verification is done locally"
   ]
  },
  {
   "cell_type": "markdown",
   "id": "168e8296",
   "metadata": {},
   "source": [
    "### Verify the presence of a record in the merkle tree"
   ]
  },
  {
   "cell_type": "code",
   "execution_count": 40,
   "id": "3f9b4c11",
   "metadata": {},
   "outputs": [
    {
     "name": "stdout",
     "output_type": "stream",
     "text": [
      "\n",
      "Data hash: 26cNzUrVMN9phjfJK8wE9imbuwGKfpkbYLHUUDAxKHLb\n",
      "Verified to be present in the merkle tree: true\n"
     ]
    }
   ],
   "source": [
    "import hashlib\n",
    "import base64\n",
    "import hmac\n",
    "\n",
    "#Compute a hash of the data. Use the same salt that is agreed with the server\n",
    "row = [ 'Nickname', 'Last Name', 'First name', '1980-01-01', 'email@gmail.com', '+40712345678', 'US', 'Secret', 'EST', 'https://www.linkedin.com/in/linkedin/', 'discord#1234', '@telegram', '0xwallet' ]\n",
    "recordHash = nodeApi.hashRecord(row, salt, digest)\n",
    "print(\"\\nData hash:\", recordHash)\n",
    "\n",
    "reply = nodeApi.verifyMerkleHash(session, tree, recordHash, digest).get()\n",
    "print(\"Verified to be present in the merkle tree:\", reply[\"data\"])"
   ]
  },
  {
   "cell_type": "markdown",
   "id": "585d0900",
   "metadata": {},
   "source": [
    "### Obtain a merkle proof"
   ]
  },
  {
   "cell_type": "code",
   "execution_count": 41,
   "id": "bddb9529",
   "metadata": {},
   "outputs": [
    {
     "name": "stdout",
     "output_type": "stream",
     "text": [
      "{'res': 'ok', 'data': {'signature': '2tTVr3Dg2by8Lp2hUdp7mMbtG6EYcC52hG52nGZwhy9dcApTY3zGg46UWaqViYgTTSbNZgg7rWc836B99F8KK44d', 'rootHash': 'EnwbMZFiuCEo2MJ9YEp3PDTqopWZqQ9VLi5x2zASZpX5', 'proof': '26cNzUrVMN9phjfJK8wE9imbuwGKfpkbYLHUUDAxKHLb,4eWYP6nWEH6WVS6Yw7JD3ENgCmiLCfz5YUEPKCTV1PMH;4ZzDmf2gyKgxh9i8kbULc95p8HQSWsxXJh1waq9o4bhy,5JGTsLpou5VTcepwwmvEAR2i6CULnMUPEgwGa3e1hrCg', 'hash': 'SHA-256', 'timestamp': '1697703848218'}}\n"
     ]
    },
    {
     "data": {
      "text/plain": [
       "{'signature': '2tTVr3Dg2by8Lp2hUdp7mMbtG6EYcC52hG52nGZwhy9dcApTY3zGg46UWaqViYgTTSbNZgg7rWc836B99F8KK44d',\n",
       " 'rootHash': 'EnwbMZFiuCEo2MJ9YEp3PDTqopWZqQ9VLi5x2zASZpX5',\n",
       " 'proof': '26cNzUrVMN9phjfJK8wE9imbuwGKfpkbYLHUUDAxKHLb,4eWYP6nWEH6WVS6Yw7JD3ENgCmiLCfz5YUEPKCTV1PMH;4ZzDmf2gyKgxh9i8kbULc95p8HQSWsxXJh1waq9o4bhy,5JGTsLpou5VTcepwwmvEAR2i6CULnMUPEgwGa3e1hrCg',\n",
       " 'hash': 'SHA-256',\n",
       " 'timestamp': '1697703848218'}"
      ]
     },
     "metadata": {},
     "output_type": "display_data"
    },
    {
     "data": {
      "text/plain": [
       "[['26cNzUrVMN9phjfJK8wE9imbuwGKfpkbYLHUUDAxKHLb',\n",
       "  '4eWYP6nWEH6WVS6Yw7JD3ENgCmiLCfz5YUEPKCTV1PMH'],\n",
       " ['4ZzDmf2gyKgxh9i8kbULc95p8HQSWsxXJh1waq9o4bhy',\n",
       "  '5JGTsLpou5VTcepwwmvEAR2i6CULnMUPEgwGa3e1hrCg']]"
      ]
     },
     "metadata": {},
     "output_type": "display_data"
    },
    {
     "name": "stdout",
     "output_type": "stream",
     "text": [
      "True\n"
     ]
    }
   ],
   "source": [
    "reply = nodeApi.merkleProof(session, scope, table, recordHash, digest).get()\n",
    "print(reply)\n",
    "data = reply[\"data\"]\n",
    "display(data)\n",
    "\n",
    "hashes = [ h.split(\",\") for h in data[\"proof\"].split(\";\") ]\n",
    "display(hashes)\n",
    "\n",
    "proofSignature = data[\"signature\"]\n",
    "toSign = data[\"proof\"] + \" \" + data[\"timestamp\"] # the node signed the proof and the timestamp\n",
    "check = nodeApi.verifySignature(proofSignature, toSign)\n",
    "print(check)"
   ]
  }
 ],
 "metadata": {
  "kernelspec": {
   "display_name": "Python 3 (ipykernel)",
   "language": "python",
   "name": "python3"
  },
  "language_info": {
   "codemirror_mode": {
    "name": "ipython",
    "version": 3
   },
   "file_extension": ".py",
   "mimetype": "text/x-python",
   "name": "python",
   "nbconvert_exporter": "python",
   "pygments_lexer": "ipython3",
   "version": "3.9.16"
  }
 },
 "nbformat": 4,
 "nbformat_minor": 5
}
